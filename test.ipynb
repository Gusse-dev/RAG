{
 "cells": [
  {
   "cell_type": "code",
   "execution_count": 9,
   "metadata": {},
   "outputs": [],
   "source": [
    "from langchain.llms import Ollama\n",
    "from langchain.prompts import PromptTemplate"
   ]
  },
  {
   "cell_type": "code",
   "execution_count": 10,
   "metadata": {},
   "outputs": [],
   "source": [
    "llm = Ollama(model=\"mistral\")"
   ]
  },
  {
   "cell_type": "code",
   "execution_count": 11,
   "metadata": {},
   "outputs": [],
   "source": [
    "prompt = \"\"\"\n",
    "### Instruction\n",
    "You are chef and you goal is to help the user find a suitable recipe. \\\n",
    "If you can't answer a question with the given context please advise the user to ask a human.\n",
    "### Context\n",
    "{context}\n",
    "### User input\n",
    "{input}\n",
    "\"\"\"\n",
    "\n",
    "prompt_template = PromptTemplate(\n",
    "    input_variables=[\"context\", \"input\"],\n",
    "    template=prompt \n",
    ")\n",
    "\n",
    "support_chain = prompt_template | llm"
   ]
  },
  {
   "cell_type": "code",
   "execution_count": 12,
   "metadata": {},
   "outputs": [
    {
     "data": {
      "text/plain": [
       "\" Given your preference for fried potatoes and the desire to put a smile on everyone's face, I would recommend making a classic, joyful dish like Fried Potato Wedges with Garlic Aioli. The crispy texture of the potatoes combined with the creamy garlic dip is sure to delight everyone! Enjoy your cooking!\""
      ]
     },
     "execution_count": 12,
     "metadata": {},
     "output_type": "execute_result"
    }
   ],
   "source": [
    "context = \"\"\"\n",
    "Fried potatoes are the best dish in this world\n",
    "\"\"\"\n",
    "\n",
    "input = \"\"\"\n",
    "What should I cook today. Something that puts a smile on everyones face\n",
    "\"\"\"\n",
    "\n",
    "support_chain.invoke({\"context\":context,\"input\":input})"
   ]
  }
 ],
 "metadata": {
  "kernelspec": {
   "display_name": "env",
   "language": "python",
   "name": "python3"
  },
  "language_info": {
   "codemirror_mode": {
    "name": "ipython",
    "version": 3
   },
   "file_extension": ".py",
   "mimetype": "text/x-python",
   "name": "python",
   "nbconvert_exporter": "python",
   "pygments_lexer": "ipython3",
   "version": "3.10.12"
  }
 },
 "nbformat": 4,
 "nbformat_minor": 2
}
