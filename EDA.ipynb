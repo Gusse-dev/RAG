{
 "cells": [
  {
   "cell_type": "code",
   "execution_count": 148,
   "metadata": {},
   "outputs": [],
   "source": [
    "import pandas as pd\n",
    "from collections import Counter\n",
    "import re"
   ]
  },
  {
   "cell_type": "code",
   "execution_count": 149,
   "metadata": {},
   "outputs": [],
   "source": [
    "def set_pandas_display_options() -> None:\n",
    "    \"\"\"Set pandas display options.\"\"\"\n",
    "    # Ref: https://stackoverflow.com/a/52432757/\n",
    "    display = pd.options.display\n",
    "\n",
    "    display.max_columns = 1000\n",
    "    display.max_rows = 10_000\n",
    "    display.max_colwidth = 199\n",
    "    display.width = 1000\n",
    "    # display.precision = 2  # set as needed\n",
    "    # display.float_format = lambda x: '{:,.2f}'.format(x)  # set as needed\n",
    "\n",
    "set_pandas_display_options()"
   ]
  },
  {
   "cell_type": "code",
   "execution_count": 150,
   "metadata": {},
   "outputs": [
    {
     "name": "stdout",
     "output_type": "stream",
     "text": [
      "2231150\n"
     ]
    },
    {
     "data": {
      "text/html": [
       "<div>\n",
       "<style scoped>\n",
       "    .dataframe tbody tr th:only-of-type {\n",
       "        vertical-align: middle;\n",
       "    }\n",
       "\n",
       "    .dataframe tbody tr th {\n",
       "        vertical-align: top;\n",
       "    }\n",
       "\n",
       "    .dataframe thead th {\n",
       "        text-align: right;\n",
       "    }\n",
       "</style>\n",
       "<table border=\"1\" class=\"dataframe\">\n",
       "  <thead>\n",
       "    <tr style=\"text-align: right;\">\n",
       "      <th></th>\n",
       "      <th>Unnamed: 0</th>\n",
       "      <th>title</th>\n",
       "      <th>ingredients</th>\n",
       "      <th>directions</th>\n",
       "      <th>link</th>\n",
       "      <th>source</th>\n",
       "      <th>NER</th>\n",
       "    </tr>\n",
       "  </thead>\n",
       "  <tbody>\n",
       "    <tr>\n",
       "      <th>0</th>\n",
       "      <td>0</td>\n",
       "      <td>No-Bake Nut Cookies</td>\n",
       "      <td>[\"1 c. firmly packed brown sugar\", \"1/2 c. evaporated milk\", \"1/2 tsp. vanilla\", \"1/2 c. broken nuts (pecans)\", \"2 Tbsp. butter or margarine\", \"3 1/2 c. bite size shredded rice biscuits\"]</td>\n",
       "      <td>[\"In a heavy 2-quart saucepan, mix brown sugar, nuts, evaporated milk and butter or margarine.\", \"Stir over medium heat until mixture bubbles all over top.\", \"Boil and stir 5 minutes more. Take o...</td>\n",
       "      <td>www.cookbooks.com/Recipe-Details.aspx?id=44874</td>\n",
       "      <td>Gathered</td>\n",
       "      <td>[\"brown sugar\", \"milk\", \"vanilla\", \"nuts\", \"butter\", \"bite size shredded rice biscuits\"]</td>\n",
       "    </tr>\n",
       "    <tr>\n",
       "      <th>1</th>\n",
       "      <td>1</td>\n",
       "      <td>Jewell Ball'S Chicken</td>\n",
       "      <td>[\"1 small jar chipped beef, cut up\", \"4 boned chicken breasts\", \"1 can cream of mushroom soup\", \"1 carton sour cream\"]</td>\n",
       "      <td>[\"Place chipped beef on bottom of baking dish.\", \"Place chicken on top of beef.\", \"Mix soup and cream together; pour over chicken. Bake, uncovered, at 275\\u00b0 for 3 hours.\"]</td>\n",
       "      <td>www.cookbooks.com/Recipe-Details.aspx?id=699419</td>\n",
       "      <td>Gathered</td>\n",
       "      <td>[\"beef\", \"chicken breasts\", \"cream of mushroom soup\", \"sour cream\"]</td>\n",
       "    </tr>\n",
       "    <tr>\n",
       "      <th>2</th>\n",
       "      <td>2</td>\n",
       "      <td>Creamy Corn</td>\n",
       "      <td>[\"2 (16 oz.) pkg. frozen corn\", \"1 (8 oz.) pkg. cream cheese, cubed\", \"1/3 c. butter, cubed\", \"1/2 tsp. garlic powder\", \"1/2 tsp. salt\", \"1/4 tsp. pepper\"]</td>\n",
       "      <td>[\"In a slow cooker, combine all ingredients. Cover and cook on low for 4 hours or until heated through and cheese is melted. Stir well before serving. Yields 6 servings.\"]</td>\n",
       "      <td>www.cookbooks.com/Recipe-Details.aspx?id=10570</td>\n",
       "      <td>Gathered</td>\n",
       "      <td>[\"frozen corn\", \"cream cheese\", \"butter\", \"garlic powder\", \"salt\", \"pepper\"]</td>\n",
       "    </tr>\n",
       "    <tr>\n",
       "      <th>3</th>\n",
       "      <td>3</td>\n",
       "      <td>Chicken Funny</td>\n",
       "      <td>[\"1 large whole chicken\", \"2 (10 1/2 oz.) cans chicken gravy\", \"1 (10 1/2 oz.) can cream of mushroom soup\", \"1 (6 oz.) box Stove Top stuffing\", \"4 oz. shredded cheese\"]</td>\n",
       "      <td>[\"Boil and debone chicken.\", \"Put bite size pieces in average size square casserole dish.\", \"Pour gravy and cream of mushroom soup over chicken; level.\", \"Make stuffing according to instructions ...</td>\n",
       "      <td>www.cookbooks.com/Recipe-Details.aspx?id=897570</td>\n",
       "      <td>Gathered</td>\n",
       "      <td>[\"chicken\", \"chicken gravy\", \"cream of mushroom soup\", \"shredded cheese\"]</td>\n",
       "    </tr>\n",
       "    <tr>\n",
       "      <th>4</th>\n",
       "      <td>4</td>\n",
       "      <td>Reeses Cups(Candy)</td>\n",
       "      <td>[\"1 c. peanut butter\", \"3/4 c. graham cracker crumbs\", \"1 c. melted butter\", \"1 lb. (3 1/2 c.) powdered sugar\", \"1 large pkg. chocolate chips\"]</td>\n",
       "      <td>[\"Combine first four ingredients and press in 13 x 9-inch ungreased pan.\", \"Melt chocolate chips and spread over mixture. Refrigerate for about 20 minutes and cut into pieces before chocolate get...</td>\n",
       "      <td>www.cookbooks.com/Recipe-Details.aspx?id=659239</td>\n",
       "      <td>Gathered</td>\n",
       "      <td>[\"peanut butter\", \"graham cracker crumbs\", \"butter\", \"powdered sugar\", \"chocolate chips\"]</td>\n",
       "    </tr>\n",
       "  </tbody>\n",
       "</table>\n",
       "</div>"
      ],
      "text/plain": [
       "   Unnamed: 0                  title                                                                                                                                                                                  ingredients                                                                                                                                                                                              directions                                             link    source                                                                                        NER\n",
       "0           0    No-Bake Nut Cookies  [\"1 c. firmly packed brown sugar\", \"1/2 c. evaporated milk\", \"1/2 tsp. vanilla\", \"1/2 c. broken nuts (pecans)\", \"2 Tbsp. butter or margarine\", \"3 1/2 c. bite size shredded rice biscuits\"]  [\"In a heavy 2-quart saucepan, mix brown sugar, nuts, evaporated milk and butter or margarine.\", \"Stir over medium heat until mixture bubbles all over top.\", \"Boil and stir 5 minutes more. Take o...   www.cookbooks.com/Recipe-Details.aspx?id=44874  Gathered   [\"brown sugar\", \"milk\", \"vanilla\", \"nuts\", \"butter\", \"bite size shredded rice biscuits\"]\n",
       "1           1  Jewell Ball'S Chicken                                                                       [\"1 small jar chipped beef, cut up\", \"4 boned chicken breasts\", \"1 can cream of mushroom soup\", \"1 carton sour cream\"]                         [\"Place chipped beef on bottom of baking dish.\", \"Place chicken on top of beef.\", \"Mix soup and cream together; pour over chicken. Bake, uncovered, at 275\\u00b0 for 3 hours.\"]  www.cookbooks.com/Recipe-Details.aspx?id=699419  Gathered                        [\"beef\", \"chicken breasts\", \"cream of mushroom soup\", \"sour cream\"]\n",
       "2           2            Creamy Corn                                  [\"2 (16 oz.) pkg. frozen corn\", \"1 (8 oz.) pkg. cream cheese, cubed\", \"1/3 c. butter, cubed\", \"1/2 tsp. garlic powder\", \"1/2 tsp. salt\", \"1/4 tsp. pepper\"]                             [\"In a slow cooker, combine all ingredients. Cover and cook on low for 4 hours or until heated through and cheese is melted. Stir well before serving. Yields 6 servings.\"]   www.cookbooks.com/Recipe-Details.aspx?id=10570  Gathered               [\"frozen corn\", \"cream cheese\", \"butter\", \"garlic powder\", \"salt\", \"pepper\"]\n",
       "3           3          Chicken Funny                     [\"1 large whole chicken\", \"2 (10 1/2 oz.) cans chicken gravy\", \"1 (10 1/2 oz.) can cream of mushroom soup\", \"1 (6 oz.) box Stove Top stuffing\", \"4 oz. shredded cheese\"]  [\"Boil and debone chicken.\", \"Put bite size pieces in average size square casserole dish.\", \"Pour gravy and cream of mushroom soup over chicken; level.\", \"Make stuffing according to instructions ...  www.cookbooks.com/Recipe-Details.aspx?id=897570  Gathered                  [\"chicken\", \"chicken gravy\", \"cream of mushroom soup\", \"shredded cheese\"]\n",
       "4           4   Reeses Cups(Candy)                                                [\"1 c. peanut butter\", \"3/4 c. graham cracker crumbs\", \"1 c. melted butter\", \"1 lb. (3 1/2 c.) powdered sugar\", \"1 large pkg. chocolate chips\"]  [\"Combine first four ingredients and press in 13 x 9-inch ungreased pan.\", \"Melt chocolate chips and spread over mixture. Refrigerate for about 20 minutes and cut into pieces before chocolate get...  www.cookbooks.com/Recipe-Details.aspx?id=659239  Gathered  [\"peanut butter\", \"graham cracker crumbs\", \"butter\", \"powdered sugar\", \"chocolate chips\"]"
      ]
     },
     "execution_count": 150,
     "metadata": {},
     "output_type": "execute_result"
    }
   ],
   "source": [
    "\n",
    "# Load the CSV file to determine the number of rows\n",
    "total_rows = sum(1 for line in open('data/RecipeNLG_dataset.csv'))  # Counts total number of rows\n",
    "print(total_rows)\n",
    "\n",
    "# Calculate 10% of the total rows\n",
    "percentage = total_rows // 10\n",
    "\n",
    "\n",
    "df = pd.read_csv('data/RecipeNLG_dataset.csv', nrows=percentage)\n",
    "df.head(5)"
   ]
  },
  {
   "cell_type": "code",
   "execution_count": 151,
   "metadata": {},
   "outputs": [],
   "source": [
    "df = df.drop(columns=['Unnamed: 0', 'source', 'NER'])"
   ]
  },
  {
   "cell_type": "code",
   "execution_count": 152,
   "metadata": {},
   "outputs": [
    {
     "data": {
      "text/html": [
       "<div>\n",
       "<style scoped>\n",
       "    .dataframe tbody tr th:only-of-type {\n",
       "        vertical-align: middle;\n",
       "    }\n",
       "\n",
       "    .dataframe tbody tr th {\n",
       "        vertical-align: top;\n",
       "    }\n",
       "\n",
       "    .dataframe thead th {\n",
       "        text-align: right;\n",
       "    }\n",
       "</style>\n",
       "<table border=\"1\" class=\"dataframe\">\n",
       "  <thead>\n",
       "    <tr style=\"text-align: right;\">\n",
       "      <th></th>\n",
       "      <th>title</th>\n",
       "      <th>ingredients</th>\n",
       "      <th>directions</th>\n",
       "      <th>link</th>\n",
       "    </tr>\n",
       "  </thead>\n",
       "  <tbody>\n",
       "    <tr>\n",
       "      <th>0</th>\n",
       "      <td>No-Bake Nut Cookies</td>\n",
       "      <td>[\"1 c. firmly packed brown sugar\", \"1/2 c. evaporated milk\", \"1/2 tsp. vanilla\", \"1/2 c. broken nuts (pecans)\", \"2 Tbsp. butter or margarine\", \"3 1/2 c. bite size shredded rice biscuits\"]</td>\n",
       "      <td>[\"In a heavy 2-quart saucepan, mix brown sugar, nuts, evaporated milk and butter or margarine.\", \"Stir over medium heat until mixture bubbles all over top.\", \"Boil and stir 5 minutes more. Take o...</td>\n",
       "      <td>www.cookbooks.com/Recipe-Details.aspx?id=44874</td>\n",
       "    </tr>\n",
       "    <tr>\n",
       "      <th>1</th>\n",
       "      <td>Jewell Ball'S Chicken</td>\n",
       "      <td>[\"1 small jar chipped beef, cut up\", \"4 boned chicken breasts\", \"1 can cream of mushroom soup\", \"1 carton sour cream\"]</td>\n",
       "      <td>[\"Place chipped beef on bottom of baking dish.\", \"Place chicken on top of beef.\", \"Mix soup and cream together; pour over chicken. Bake, uncovered, at 275\\u00b0 for 3 hours.\"]</td>\n",
       "      <td>www.cookbooks.com/Recipe-Details.aspx?id=699419</td>\n",
       "    </tr>\n",
       "    <tr>\n",
       "      <th>2</th>\n",
       "      <td>Creamy Corn</td>\n",
       "      <td>[\"2 (16 oz.) pkg. frozen corn\", \"1 (8 oz.) pkg. cream cheese, cubed\", \"1/3 c. butter, cubed\", \"1/2 tsp. garlic powder\", \"1/2 tsp. salt\", \"1/4 tsp. pepper\"]</td>\n",
       "      <td>[\"In a slow cooker, combine all ingredients. Cover and cook on low for 4 hours or until heated through and cheese is melted. Stir well before serving. Yields 6 servings.\"]</td>\n",
       "      <td>www.cookbooks.com/Recipe-Details.aspx?id=10570</td>\n",
       "    </tr>\n",
       "    <tr>\n",
       "      <th>3</th>\n",
       "      <td>Chicken Funny</td>\n",
       "      <td>[\"1 large whole chicken\", \"2 (10 1/2 oz.) cans chicken gravy\", \"1 (10 1/2 oz.) can cream of mushroom soup\", \"1 (6 oz.) box Stove Top stuffing\", \"4 oz. shredded cheese\"]</td>\n",
       "      <td>[\"Boil and debone chicken.\", \"Put bite size pieces in average size square casserole dish.\", \"Pour gravy and cream of mushroom soup over chicken; level.\", \"Make stuffing according to instructions ...</td>\n",
       "      <td>www.cookbooks.com/Recipe-Details.aspx?id=897570</td>\n",
       "    </tr>\n",
       "    <tr>\n",
       "      <th>4</th>\n",
       "      <td>Reeses Cups(Candy)</td>\n",
       "      <td>[\"1 c. peanut butter\", \"3/4 c. graham cracker crumbs\", \"1 c. melted butter\", \"1 lb. (3 1/2 c.) powdered sugar\", \"1 large pkg. chocolate chips\"]</td>\n",
       "      <td>[\"Combine first four ingredients and press in 13 x 9-inch ungreased pan.\", \"Melt chocolate chips and spread over mixture. Refrigerate for about 20 minutes and cut into pieces before chocolate get...</td>\n",
       "      <td>www.cookbooks.com/Recipe-Details.aspx?id=659239</td>\n",
       "    </tr>\n",
       "  </tbody>\n",
       "</table>\n",
       "</div>"
      ],
      "text/plain": [
       "                   title                                                                                                                                                                                  ingredients                                                                                                                                                                                              directions                                             link\n",
       "0    No-Bake Nut Cookies  [\"1 c. firmly packed brown sugar\", \"1/2 c. evaporated milk\", \"1/2 tsp. vanilla\", \"1/2 c. broken nuts (pecans)\", \"2 Tbsp. butter or margarine\", \"3 1/2 c. bite size shredded rice biscuits\"]  [\"In a heavy 2-quart saucepan, mix brown sugar, nuts, evaporated milk and butter or margarine.\", \"Stir over medium heat until mixture bubbles all over top.\", \"Boil and stir 5 minutes more. Take o...   www.cookbooks.com/Recipe-Details.aspx?id=44874\n",
       "1  Jewell Ball'S Chicken                                                                       [\"1 small jar chipped beef, cut up\", \"4 boned chicken breasts\", \"1 can cream of mushroom soup\", \"1 carton sour cream\"]                         [\"Place chipped beef on bottom of baking dish.\", \"Place chicken on top of beef.\", \"Mix soup and cream together; pour over chicken. Bake, uncovered, at 275\\u00b0 for 3 hours.\"]  www.cookbooks.com/Recipe-Details.aspx?id=699419\n",
       "2            Creamy Corn                                  [\"2 (16 oz.) pkg. frozen corn\", \"1 (8 oz.) pkg. cream cheese, cubed\", \"1/3 c. butter, cubed\", \"1/2 tsp. garlic powder\", \"1/2 tsp. salt\", \"1/4 tsp. pepper\"]                             [\"In a slow cooker, combine all ingredients. Cover and cook on low for 4 hours or until heated through and cheese is melted. Stir well before serving. Yields 6 servings.\"]   www.cookbooks.com/Recipe-Details.aspx?id=10570\n",
       "3          Chicken Funny                     [\"1 large whole chicken\", \"2 (10 1/2 oz.) cans chicken gravy\", \"1 (10 1/2 oz.) can cream of mushroom soup\", \"1 (6 oz.) box Stove Top stuffing\", \"4 oz. shredded cheese\"]  [\"Boil and debone chicken.\", \"Put bite size pieces in average size square casserole dish.\", \"Pour gravy and cream of mushroom soup over chicken; level.\", \"Make stuffing according to instructions ...  www.cookbooks.com/Recipe-Details.aspx?id=897570\n",
       "4   Reeses Cups(Candy)                                                [\"1 c. peanut butter\", \"3/4 c. graham cracker crumbs\", \"1 c. melted butter\", \"1 lb. (3 1/2 c.) powdered sugar\", \"1 large pkg. chocolate chips\"]  [\"Combine first four ingredients and press in 13 x 9-inch ungreased pan.\", \"Melt chocolate chips and spread over mixture. Refrigerate for about 20 minutes and cut into pieces before chocolate get...  www.cookbooks.com/Recipe-Details.aspx?id=659239"
      ]
     },
     "execution_count": 152,
     "metadata": {},
     "output_type": "execute_result"
    }
   ],
   "source": [
    "df.head()"
   ]
  },
  {
   "cell_type": "code",
   "execution_count": null,
   "metadata": {},
   "outputs": [],
   "source": []
  },
  {
   "cell_type": "code",
   "execution_count": 153,
   "metadata": {},
   "outputs": [],
   "source": [
    "df['ingredients'] = df['ingredients'].str.lower()\n",
    "words = df['ingredients'].apply(lambda x: re.findall(r'\\w+', x)).explode()\n",
    "word_counts = Counter(words)"
   ]
  },
  {
   "cell_type": "code",
   "execution_count": 154,
   "metadata": {},
   "outputs": [],
   "source": [
    "# Some data cleaning\n",
    "df['ingredients'] = df['ingredients'].str.replace('[', '')\n",
    "df['ingredients'] = df['ingredients'].str.replace(']', '')\n",
    "df['ingredients'] = df['ingredients'].str.replace('\"', '')\n",
    "df['directions'] = df['directions'].str.replace('[', '')\n",
    "df['directions'] = df['directions'].str.replace(']', '')\n",
    "df['directions'] = df['directions'].str.replace('\"', '')\n",
    "\n",
    "df['ingredients'] = df['ingredients'].str.replace('tsp.','teaspoon')\n",
    "df['ingredients'] = df['ingredients'].str.replace('tbsp.','tablespoon')\n",
    "df['ingredients'] = df['ingredients'].str.replace('oz.','ounces')\n",
    "df['ingredients'] = df['ingredients'].str.replace('lb.','pound')\n",
    "df['ingredients'] = df['ingredients'].str.replace('pkg.','package')\n",
    "df['ingredients'] = df['ingredients'].str.replace('c.','cups')\n",
    "\n",
    "df['directions'] = df['directions'].str.replace('.,',',')"
   ]
  },
  {
   "cell_type": "code",
   "execution_count": 155,
   "metadata": {},
   "outputs": [
    {
     "data": {
      "text/html": [
       "<div>\n",
       "<style scoped>\n",
       "    .dataframe tbody tr th:only-of-type {\n",
       "        vertical-align: middle;\n",
       "    }\n",
       "\n",
       "    .dataframe tbody tr th {\n",
       "        vertical-align: top;\n",
       "    }\n",
       "\n",
       "    .dataframe thead th {\n",
       "        text-align: right;\n",
       "    }\n",
       "</style>\n",
       "<table border=\"1\" class=\"dataframe\">\n",
       "  <thead>\n",
       "    <tr style=\"text-align: right;\">\n",
       "      <th></th>\n",
       "      <th>title</th>\n",
       "      <th>ingredients</th>\n",
       "      <th>directions</th>\n",
       "      <th>link</th>\n",
       "    </tr>\n",
       "  </thead>\n",
       "  <tbody>\n",
       "    <tr>\n",
       "      <th>0</th>\n",
       "      <td>No-Bake Nut Cookies</td>\n",
       "      <td>1 cups firmly packed brown sugar, 1/2 cups evaporated milk, 1/2 teaspoon vanilla, 1/2 cups broken nuts (pecans), 2 tablespoon butter or margarine, 3 1/2 cups bite size shredded rice biscuits</td>\n",
       "      <td>In a heavy 2-quart saucepan, mix brown sugar, nuts, evaporated milk and butter or margarine, Stir over medium heat until mixture bubbles all over top, Boil and stir 5 minutes more. Take off heat,...</td>\n",
       "      <td>www.cookbooks.com/Recipe-Details.aspx?id=44874</td>\n",
       "    </tr>\n",
       "    <tr>\n",
       "      <th>1</th>\n",
       "      <td>Jewell Ball'S Chicken</td>\n",
       "      <td>1 small jar chipped beef, cut up, 4 boned chicken breasts, 1 can cream of mushroom soup, 1 carton sour cream</td>\n",
       "      <td>Place chipped beef on bottom of baking dish, Place chicken on top of beef, Mix soup and cream together; pour over chicken. Bake, uncovered, at 275\\u00b0 for 3 hours.</td>\n",
       "      <td>www.cookbooks.com/Recipe-Details.aspx?id=699419</td>\n",
       "    </tr>\n",
       "    <tr>\n",
       "      <th>2</th>\n",
       "      <td>Creamy Corn</td>\n",
       "      <td>2 (16 ounces) package frozen corn, 1 (8 ounces) package cream cheese, cubed, 1/3 cups butter, cubed, 1/2 teaspoon garlic powder, 1/2 teaspoon salt, 1/4 teaspoon pepper</td>\n",
       "      <td>In a slow cooker, combine all ingredients. Cover and cook on low for 4 hours or until heated through and cheese is melted. Stir well before serving. Yields 6 servings.</td>\n",
       "      <td>www.cookbooks.com/Recipe-Details.aspx?id=10570</td>\n",
       "    </tr>\n",
       "    <tr>\n",
       "      <th>3</th>\n",
       "      <td>Chicken Funny</td>\n",
       "      <td>1 large whole chicken, 2 (10 1/2 ounces) cans chicken gravy, 1 (10 1/2 ounces) can cream of mushroom soup, 1 (6 ounces) box stove top stuffing, 4 ounces shredded cheese</td>\n",
       "      <td>Boil and debone chicken, Put bite size pieces in average size square casserole dish, Pour gravy and cream of mushroom soup over chicken; level, Make stuffing according to instructions on box (do ...</td>\n",
       "      <td>www.cookbooks.com/Recipe-Details.aspx?id=897570</td>\n",
       "    </tr>\n",
       "    <tr>\n",
       "      <th>4</th>\n",
       "      <td>Reeses Cups(Candy)</td>\n",
       "      <td>1 cups peanut butter, 3/4 cups graham cracker crumbs, 1 cups melted butter, 1 pound (3 1/2 cups) powdered sugar, 1 large package chocolate chips</td>\n",
       "      <td>Combine first four ingredients and press in 13 x 9-inch ungreased pan, Melt chocolate chips and spread over mixture. Refrigerate for about 20 minutes and cut into pieces before chocolate gets har...</td>\n",
       "      <td>www.cookbooks.com/Recipe-Details.aspx?id=659239</td>\n",
       "    </tr>\n",
       "    <tr>\n",
       "      <th>5</th>\n",
       "      <td>Cheeseburger Potato Soup</td>\n",
       "      <td>6 baking potatoes, 1 pound of extra lean ground beef, 2/3 cups butter or margarine, 6 cups milk, 3/4 teaspoon salt, 1/2 teaspoon pepper, 1 1/2 c (6 ounces) shredded cheddar cheese, divided, 12 sl...</td>\n",
       "      <td>Wash potatoes; prick several times with a fork, Microwave them with a wet paper towel covering the potatoes on high for 6-8 minutes, The potatoes should be soft, ready to eat, Let them cool enoug...</td>\n",
       "      <td>www.cookbooks.com/Recipe-Details.aspx?id=20115</td>\n",
       "    </tr>\n",
       "    <tr>\n",
       "      <th>6</th>\n",
       "      <td>Rhubarb Coffee Cake</td>\n",
       "      <td>1 1/2 cups sugar, 1/2 cups butter, 1 egg, 1 cups buttermilk, 2 cups flour, 1/2 teaspoon salt, 1 teaspoon soda, 1 cups buttermilk, 2 cups rhubarb, finely cut, 1 teaspoon vanilla</td>\n",
       "      <td>Cream sugar and butter, Add egg and beat well, To creamed butter, sugar and egg, add alternately buttermilk with mixture of flour, salt and soda, Mix well, Add rhubarb and vanilla, Pour into grea...</td>\n",
       "      <td>www.cookbooks.com/Recipe-Details.aspx?id=210288</td>\n",
       "    </tr>\n",
       "    <tr>\n",
       "      <th>7</th>\n",
       "      <td>Scalloped Corn</td>\n",
       "      <td>1 can cream-style corn, 1 can whole kernel corn, 1/2 package (approximately 20) saltine crackers, crushed, 1 egg, beaten, 6 teaspoon butter, divided, pepper to taste</td>\n",
       "      <td>Mix together both cans of corn, crackers, egg, 2 teaspoons of melted butter and pepper and place in a buttered baking dish, Dot with remaining 4 teaspoons of butter, Bake at 350\\u00b0 for 1 hour.</td>\n",
       "      <td>www.cookbooks.com/Recipe-Details.aspx?id=876969</td>\n",
       "    </tr>\n",
       "    <tr>\n",
       "      <th>8</th>\n",
       "      <td>Nolan'S Pepper Steak</td>\n",
       "      <td>1 1/2 pound round steak (1-inch thick), cut into strips, 1 can drained tomatoes, cut up (save liquid), 1 3/4 cups water, 1/2 cups onions, 1 1/2 tablespoon worcestershire sauce, 2 green peppers, d...</td>\n",
       "      <td>Roll steak strips in flour, Brown in skillet, Salt and pepper, Combine tomato liquid, water, onions and browned steak. Cover and simmer for one and a quarter hours, Uncover and stir in Worcesters...</td>\n",
       "      <td>www.cookbooks.com/Recipe-Details.aspx?id=375254</td>\n",
       "    </tr>\n",
       "    <tr>\n",
       "      <th>9</th>\n",
       "      <td>Millionaire Pie</td>\n",
       "      <td>1 large container cool whip, 1 large can crushed pineapple, 1 can condensed milk, 3 lemons, 1 cups pecans, 2 graham cracker crusts</td>\n",
       "      <td>Empty Cool Whip into a bowl, Drain juice from pineapple, Mix Cool Whip and pineapple, Add condensed milk, Squeeze lemons, remove seeds and add to Cool Whip and pineapple, Chop nuts into small pie...</td>\n",
       "      <td>www.cookbooks.com/Recipe-Details.aspx?id=794547</td>\n",
       "    </tr>\n",
       "  </tbody>\n",
       "</table>\n",
       "</div>"
      ],
      "text/plain": [
       "                      title                                                                                                                                                                                             ingredients                                                                                                                                                                                              directions                                             link\n",
       "0       No-Bake Nut Cookies          1 cups firmly packed brown sugar, 1/2 cups evaporated milk, 1/2 teaspoon vanilla, 1/2 cups broken nuts (pecans), 2 tablespoon butter or margarine, 3 1/2 cups bite size shredded rice biscuits  In a heavy 2-quart saucepan, mix brown sugar, nuts, evaporated milk and butter or margarine, Stir over medium heat until mixture bubbles all over top, Boil and stir 5 minutes more. Take off heat,...   www.cookbooks.com/Recipe-Details.aspx?id=44874\n",
       "1     Jewell Ball'S Chicken                                                                                            1 small jar chipped beef, cut up, 4 boned chicken breasts, 1 can cream of mushroom soup, 1 carton sour cream                                   Place chipped beef on bottom of baking dish, Place chicken on top of beef, Mix soup and cream together; pour over chicken. Bake, uncovered, at 275\\u00b0 for 3 hours.  www.cookbooks.com/Recipe-Details.aspx?id=699419\n",
       "2               Creamy Corn                                 2 (16 ounces) package frozen corn, 1 (8 ounces) package cream cheese, cubed, 1/3 cups butter, cubed, 1/2 teaspoon garlic powder, 1/2 teaspoon salt, 1/4 teaspoon pepper                                 In a slow cooker, combine all ingredients. Cover and cook on low for 4 hours or until heated through and cheese is melted. Stir well before serving. Yields 6 servings.   www.cookbooks.com/Recipe-Details.aspx?id=10570\n",
       "3             Chicken Funny                                1 large whole chicken, 2 (10 1/2 ounces) cans chicken gravy, 1 (10 1/2 ounces) can cream of mushroom soup, 1 (6 ounces) box stove top stuffing, 4 ounces shredded cheese  Boil and debone chicken, Put bite size pieces in average size square casserole dish, Pour gravy and cream of mushroom soup over chicken; level, Make stuffing according to instructions on box (do ...  www.cookbooks.com/Recipe-Details.aspx?id=897570\n",
       "4      Reeses Cups(Candy)                                                          1 cups peanut butter, 3/4 cups graham cracker crumbs, 1 cups melted butter, 1 pound (3 1/2 cups) powdered sugar, 1 large package chocolate chips  Combine first four ingredients and press in 13 x 9-inch ungreased pan, Melt chocolate chips and spread over mixture. Refrigerate for about 20 minutes and cut into pieces before chocolate gets har...  www.cookbooks.com/Recipe-Details.aspx?id=659239\n",
       "5  Cheeseburger Potato Soup  6 baking potatoes, 1 pound of extra lean ground beef, 2/3 cups butter or margarine, 6 cups milk, 3/4 teaspoon salt, 1/2 teaspoon pepper, 1 1/2 c (6 ounces) shredded cheddar cheese, divided, 12 sl...  Wash potatoes; prick several times with a fork, Microwave them with a wet paper towel covering the potatoes on high for 6-8 minutes, The potatoes should be soft, ready to eat, Let them cool enoug...   www.cookbooks.com/Recipe-Details.aspx?id=20115\n",
       "6       Rhubarb Coffee Cake                        1 1/2 cups sugar, 1/2 cups butter, 1 egg, 1 cups buttermilk, 2 cups flour, 1/2 teaspoon salt, 1 teaspoon soda, 1 cups buttermilk, 2 cups rhubarb, finely cut, 1 teaspoon vanilla  Cream sugar and butter, Add egg and beat well, To creamed butter, sugar and egg, add alternately buttermilk with mixture of flour, salt and soda, Mix well, Add rhubarb and vanilla, Pour into grea...  www.cookbooks.com/Recipe-Details.aspx?id=210288\n",
       "7            Scalloped Corn                                   1 can cream-style corn, 1 can whole kernel corn, 1/2 package (approximately 20) saltine crackers, crushed, 1 egg, beaten, 6 teaspoon butter, divided, pepper to taste     Mix together both cans of corn, crackers, egg, 2 teaspoons of melted butter and pepper and place in a buttered baking dish, Dot with remaining 4 teaspoons of butter, Bake at 350\\u00b0 for 1 hour.  www.cookbooks.com/Recipe-Details.aspx?id=876969\n",
       "8      Nolan'S Pepper Steak  1 1/2 pound round steak (1-inch thick), cut into strips, 1 can drained tomatoes, cut up (save liquid), 1 3/4 cups water, 1/2 cups onions, 1 1/2 tablespoon worcestershire sauce, 2 green peppers, d...  Roll steak strips in flour, Brown in skillet, Salt and pepper, Combine tomato liquid, water, onions and browned steak. Cover and simmer for one and a quarter hours, Uncover and stir in Worcesters...  www.cookbooks.com/Recipe-Details.aspx?id=375254\n",
       "9           Millionaire Pie                                                                      1 large container cool whip, 1 large can crushed pineapple, 1 can condensed milk, 3 lemons, 1 cups pecans, 2 graham cracker crusts  Empty Cool Whip into a bowl, Drain juice from pineapple, Mix Cool Whip and pineapple, Add condensed milk, Squeeze lemons, remove seeds and add to Cool Whip and pineapple, Chop nuts into small pie...  www.cookbooks.com/Recipe-Details.aspx?id=794547"
      ]
     },
     "execution_count": 155,
     "metadata": {},
     "output_type": "execute_result"
    }
   ],
   "source": [
    "df.head(10)"
   ]
  },
  {
   "cell_type": "code",
   "execution_count": 157,
   "metadata": {},
   "outputs": [],
   "source": [
    "feature_df = df['title'] + df['ingredients'] + df['directions']"
   ]
  },
  {
   "cell_type": "code",
   "execution_count": null,
   "metadata": {},
   "outputs": [],
   "source": [
    "feature_df.to_csv('data/recipe_store.csv', sep=';')\n"
   ]
  },
  {
   "cell_type": "code",
   "execution_count": 159,
   "metadata": {},
   "outputs": [
    {
     "data": {
      "text/plain": [
       "0         No-Bake Nut Cookies1 cups firmly packed brown sugar, 1/2 cups evaporated milk, 1/2 teaspoon vanilla, 1/2 cups broken nuts (pecans), 2 tablespoon butter or margarine, 3 1/2 cups bite size shredded...\n",
       "1         Jewell Ball'S Chicken1 small jar chipped beef, cut up, 4 boned chicken breasts, 1 can cream of mushroom soup, 1 carton sour creamPlace chipped beef on bottom of baking dish, Place chicken on top ...\n",
       "2         Creamy Corn2 (16 ounces) package frozen corn, 1 (8 ounces) package cream cheese, cubed, 1/3 cups butter, cubed, 1/2 teaspoon garlic powder, 1/2 teaspoon salt, 1/4 teaspoon pepperIn a slow cooker,...\n",
       "3         Chicken Funny1 large whole chicken, 2 (10 1/2 ounces) cans chicken gravy, 1 (10 1/2 ounces) can cream of mushroom soup, 1 (6 ounces) box stove top stuffing, 4 ounces shredded cheeseBoil and debon...\n",
       "4         Reeses Cups(Candy)  1 cups peanut butter, 3/4 cups graham cracker crumbs, 1 cups melted butter, 1 pound (3 1/2 cups) powdered sugar, 1 large package chocolate chipsCombine first four ingredients ...\n",
       "                                                                                                           ...                                                                                                  \n",
       "223110    Janet'S Sugar Cookies6 cups flour, 3 eggs, 1 teaspoon salt, 2 cups sugar, 1 cups (2 sticks) butter, 1 teaspoon baking powder, 1 teaspoon baking soda, 1 teaspoon vanilla, 1 cups sour cream or butt...\n",
       "223111    Hot Rolls1 3/4 cups warm water, 1/2 cups sugar, 1 tablespoon salt, 3 tablespoon butter, 2 package yeast, 1 beaten egg, 2 1/2 cups flourCombine water, sugar, salt and butter, yeast, egg and 2 1/2 ...\n",
       "223112    Cheesy Vegetable Casserole1/2 pound american cheese, 1/2 cups butter, 16 ounces bag frozen vegetable blend containing broccoli, cauliflower and carrots, 1 cups crushed butter crackers (about 30)C...\n",
       "223113    Volcanic Shake2 medium bananas, 4 ice cubes, 1/2 cups yogurt, 1/2 cups orange juice, add fresh berries if you wishPut all ingredients in blender. Blend on low, then high until frothy, Poor into g...\n",
       "223114    Yogurt Popsicles2 cartons plain yogurt, 1 (12 ounces) can concentrated unsweetened fruit juice, dash of vanilla or honeyCombine ingredients in a bowl. Mix well. Freeze into molds (3-ounce paper c...\n",
       "Length: 223115, dtype: object"
      ]
     },
     "execution_count": 159,
     "metadata": {},
     "output_type": "execute_result"
    }
   ],
   "source": [
    "feature_df"
   ]
  }
 ],
 "metadata": {
  "kernelspec": {
   "display_name": "env",
   "language": "python",
   "name": "python3"
  },
  "language_info": {
   "codemirror_mode": {
    "name": "ipython",
    "version": 3
   },
   "file_extension": ".py",
   "mimetype": "text/x-python",
   "name": "python",
   "nbconvert_exporter": "python",
   "pygments_lexer": "ipython3",
   "version": "3.10.12"
  }
 },
 "nbformat": 4,
 "nbformat_minor": 2
}
